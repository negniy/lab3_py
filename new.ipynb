{
 "cells": [
  {
   "cell_type": "code",
   "execution_count": 17,
   "metadata": {},
   "outputs": [],
   "source": [
    "\n",
    "import os\n",
    "import csv\n",
    "import glob\n",
    "from PIL import Image\n",
    "from typing import Tuple, Any\n",
    "import numpy as np\n",
    "import pandas as pd\n",
    "import torch.nn as nn\n",
    "import torch\n",
    "import torchvision\n",
    "from torch.utils.data import Dataset, DataLoader\n",
    "import matplotlib.pyplot as plt\n",
    "import cv2\n",
    "import matplotlib.pyplot as plt\n",
    "import torch.optim as optim\n",
    "import random\n"
   ]
  },
  {
   "cell_type": "code",
   "execution_count": 6,
   "metadata": {},
   "outputs": [],
   "source": [
    "class CustomImageDataset(Dataset):\n",
    "  def __init__(self, path_to_annotation_file: str, transform: Any=None, target_transform: Any=None) -> None:\n",
    "    self.path_to_annotation_file = path_to_annotation_file\n",
    "    self.dataset_info = pd.read_csv(path_to_annotation_file, sep=';', header=0)\n",
    "    self.transform = transform\n",
    "    self.target_transform = target_transform\n",
    "\n",
    "  def __len__(self) -> int:\n",
    "    return len(self.dataset_info)\n",
    "\n",
    "  def __getitem__(self, index: int) -> Tuple[torch.tensor, int]:\n",
    "    path_to_image = self.dataset_info.iloc[index, 0]\n",
    "    image = cv2.cvtColor(cv2.imread(path_to_image), cv2.COLOR_BGR2RGB)\n",
    "    label = self.dataset_info.iloc[index, 1]\n",
    "\n",
    "    if self.transform:\n",
    "      image = self.transform(image)\n",
    "    if self.target_transform:\n",
    "      label = self.target_Transform(label)\n",
    "      \n",
    "    return image, label"
   ]
  },
  {
   "cell_type": "code",
   "execution_count": 36,
   "metadata": {},
   "outputs": [
    {
     "name": "stdout",
     "output_type": "stream",
     "text": [
      "C:\\Users\\dstep\\OneDrive\\Рабочий стол\\lab3 py\\lab3_py-1\\dataset\\rose\\0793.jpg\n"
     ]
    },
    {
     "ename": "IndexError",
     "evalue": "list index out of range",
     "output_type": "error",
     "traceback": [
      "\u001b[1;31m---------------------------------------------------------------------------\u001b[0m",
      "\u001b[1;31mIndexError\u001b[0m                                Traceback (most recent call last)",
      "Cell \u001b[1;32mIn [36], line 21\u001b[0m\n\u001b[0;32m     17\u001b[0m                 list_class_mark\u001b[39m.\u001b[39mappend(row[\u001b[39m2\u001b[39m])\n\u001b[0;32m     20\u001b[0m \u001b[39mprint\u001b[39m(list_abs_path[\u001b[39m5\u001b[39m])  \n\u001b[1;32m---> 21\u001b[0m \u001b[39mprint\u001b[39m(list_class_mark[\u001b[39m5\u001b[39;49m])            \n",
      "\u001b[1;31mIndexError\u001b[0m: list index out of range"
     ]
    }
   ],
   "source": [
    "list_abs_path=[]\n",
    "list_class_mark=[]\n",
    "with open(\"random_annotation.csv\", encoding='utf-8') as file:\n",
    "    reader = csv.reader(file, delimiter = \";\")\n",
    "    for row in reader:\n",
    "        list_abs_path.append(row[0])\n",
    " \n",
    "\n",
    "list_abs_path.pop(0)   \n",
    "random.shuffle(list_abs_path)\n",
    "   \n",
    "with open(\"random_annotation.csv\", encoding='utf-8') as file:\n",
    "    reader = csv.reader(file, delimiter = \";\")\n",
    "    for i in range(int(len(list_abs_path))):\n",
    "        for row in reader:\n",
    "            if row[0] == list_abs_path[i]:\n",
    "                list_class_mark.append(row[2])\n",
    "\n",
    "\n",
    "print(list_abs_path[5])  \n",
    "print(list_class_mark[5])            "
   ]
  },
  {
   "cell_type": "code",
   "execution_count": null,
   "metadata": {},
   "outputs": [],
   "source": [
    "   \n",
    "with open(\"train_anntotation.csv\", mode=\"w\", encoding='utf-8') as w_file:\n",
    "        file_writer = csv.writer(w_file, delimiter=\";\", lineterminator=\"\\r\")\n",
    "        for i in range(1, int(len(list_abs_path)*0.8)):\n",
    "            file_writer.writerow([list_abs_path[i], list_class_mark[i]])\n",
    "            \n",
    "with open(\"test_anntotation.csv\", mode=\"w\", encoding='utf-8') as w_file:\n",
    "        file_writer = csv.writer(w_file, delimiter=\";\", lineterminator=\"\\r\")\n",
    "        for i in range(int(len(list_abs_path)*0.8), int(len(list_abs_path)*0.9)):\n",
    "            file_writer.writerow([list_abs_path[i], list_class_mark[i]])\n",
    "            \n",
    "with open(\"val_anntotation.csv\", mode=\"w\", encoding='utf-8') as w_file:\n",
    "        file_writer = csv.writer(w_file, delimiter=\";\", lineterminator=\"\\r\")\n",
    "        for i in range(int(len(list_abs_path)*0.9), len(list_abs_path)):\n",
    "            file_writer.writerow([list_abs_path[i], list_class_mark[i]])\n",
    "            \n"
   ]
  },
  {
   "cell_type": "code",
   "execution_count": 9,
   "metadata": {},
   "outputs": [
    {
     "ename": "ValueError",
     "evalue": "low >= high",
     "output_type": "error",
     "traceback": [
      "\u001b[1;31m---------------------------------------------------------------------------\u001b[0m",
      "\u001b[1;31mValueError\u001b[0m                                Traceback (most recent call last)",
      "Cell \u001b[1;32mIn [9], line 1\u001b[0m\n\u001b[1;32m----> 1\u001b[0m rand_list \u001b[39m=\u001b[39m np\u001b[39m.\u001b[39;49mrandom\u001b[39m.\u001b[39;49mrandint(\u001b[39m1\u001b[39;49m,\u001b[39mlen\u001b[39;49m(list_abs_path),size\u001b[39m=\u001b[39;49m\u001b[39m10\u001b[39;49m)\n\u001b[0;32m      3\u001b[0m fig \u001b[39m=\u001b[39m plt\u001b[39m.\u001b[39mfigure()\n\u001b[0;32m      4\u001b[0m i\u001b[39m=\u001b[39m\u001b[39m1\u001b[39m\n",
      "File \u001b[1;32mmtrand.pyx:746\u001b[0m, in \u001b[0;36mnumpy.random.mtrand.RandomState.randint\u001b[1;34m()\u001b[0m\n",
      "File \u001b[1;32m_bounded_integers.pyx:1338\u001b[0m, in \u001b[0;36mnumpy.random._bounded_integers._rand_int32\u001b[1;34m()\u001b[0m\n",
      "\u001b[1;31mValueError\u001b[0m: low >= high"
     ]
    }
   ],
   "source": [
    "rand_list = np.random.randint(1, len(list_abs_path),size=10)\n",
    "\n",
    "fig = plt.figure()\n",
    "i=1\n",
    "for rand in rand_list:\n",
    "    fig.add_subplot(2,5,i)\n",
    "    image = Image.open(list_abs_path[rand])\n",
    "    plt.imshow(image)\n",
    "    i+=1\n",
    "\n",
    "plt.show()"
   ]
  },
  {
   "cell_type": "code",
   "execution_count": null,
   "metadata": {},
   "outputs": [
    {
     "name": "stdout",
     "output_type": "stream",
     "text": [
      "cuda:0\n"
     ]
    }
   ],
   "source": [
    "device = torch.device(\"cuda:0\") if torch.cuda.is_available() else torch.device(\"cpu\")\n",
    "print(device)\n",
    "\n",
    "custom_transforms = torchvision.transforms.Compose([torchvision.transforms.ToTensor(),\n",
    "                                                    torchvision.transforms.Resize(\n",
    "                                                        (224, 224)),\n",
    "                                                    torchvision.transforms.Normalize((0.485, 0.456, 0.406), (0.229, 0.224, 0.225))])\n",
    "\n",
    "train_dataset = CustomImageDataset('train_annotation.csv', custom_transforms)"
   ]
  },
  {
   "cell_type": "code",
   "execution_count": null,
   "metadata": {},
   "outputs": [],
   "source": [
    "class CNN(nn.Module):\n",
    "    def __init__(self) -> None:\n",
    "        super(CNN, self).__init__()\n",
    "\n",
    "        self.conv_1 = nn.Conv2d(3, 16, kernel_size=3, padding=0, stride=2)\n",
    "        self.conv_2 = nn.Conv2d(16, 32, kernel_size=3, padding=0, stride=2)\n",
    "        self.conv_3 = nn.Conv2d(32, 64, kernel_size=3, padding=0, stride=2)\n",
    "\n",
    "        self.relu = nn.ReLU()\n",
    "        self.dropout = nn.Dropout(0.1)\n",
    "        self.max_pool = nn.MaxPool2d(2)\n",
    "\n",
    "        self.fc_1 = nn.Linear(576, 10)\n",
    "        self.fc_2 = nn.Linear(10, 1)\n",
    "\n",
    "    def forward(self, x: torch.tensor) -> torch.tensor:\n",
    "        output = self.relu(self.conv_1(x))\n",
    "        output = self.max_pool(output)\n",
    "        output = self.relu(self.conv_2(output))\n",
    "        output = self.max_pool(output)\n",
    "        output = self.relu(self.conv_3(output))\n",
    "        output = self.max_pool(output)\n",
    "\n",
    "        output = nn.Flatten()(output)\n",
    "        output = self.relu(self.fc_1(output))\n",
    "        output = nn.Sigmoid()(self.fc_2(output))\n",
    "        return output"
   ]
  },
  {
   "cell_type": "code",
   "execution_count": null,
   "metadata": {},
   "outputs": [],
   "source": []
  }
 ],
 "metadata": {
  "kernelspec": {
   "display_name": "Python 3",
   "language": "python",
   "name": "python3"
  },
  "language_info": {
   "codemirror_mode": {
    "name": "ipython",
    "version": 3
   },
   "file_extension": ".py",
   "mimetype": "text/x-python",
   "name": "python",
   "nbconvert_exporter": "python",
   "pygments_lexer": "ipython3",
   "version": "3.10.9"
  },
  "orig_nbformat": 4,
  "vscode": {
   "interpreter": {
    "hash": "cd951febabce44c5eb7557963e4e95cbab7320ac00a726eb18b508152b7e7e33"
   }
  }
 },
 "nbformat": 4,
 "nbformat_minor": 2
}
